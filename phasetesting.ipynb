{
 "cells": [
  {
   "cell_type": "code",
   "execution_count": 1,
   "id": "82d24172",
   "metadata": {},
   "outputs": [],
   "source": [
    "import pandas as pd\n",
    "import re"
   ]
  },
  {
   "cell_type": "code",
   "execution_count": 2,
   "id": "bac392c2",
   "metadata": {},
   "outputs": [],
   "source": [
    "file_name = 'phase_turbo.csv'"
   ]
  },
  {
   "cell_type": "code",
   "execution_count": 3,
   "id": "d5c30d43",
   "metadata": {},
   "outputs": [],
   "source": [
    "df = pd.read_csv(file_name)"
   ]
  },
  {
   "cell_type": "code",
   "execution_count": 4,
   "id": "08d47599",
   "metadata": {},
   "outputs": [
    {
     "data": {
      "text/html": [
       "<div>\n",
       "<style scoped>\n",
       "    .dataframe tbody tr th:only-of-type {\n",
       "        vertical-align: middle;\n",
       "    }\n",
       "\n",
       "    .dataframe tbody tr th {\n",
       "        vertical-align: top;\n",
       "    }\n",
       "\n",
       "    .dataframe thead th {\n",
       "        text-align: right;\n",
       "    }\n",
       "</style>\n",
       "<table border=\"1\" class=\"dataframe\">\n",
       "  <thead>\n",
       "    <tr style=\"text-align: right;\">\n",
       "      <th></th>\n",
       "      <th>PMID</th>\n",
       "      <th>Answers</th>\n",
       "    </tr>\n",
       "  </thead>\n",
       "  <tbody>\n",
       "    <tr>\n",
       "      <th>0</th>\n",
       "      <td>30738380</td>\n",
       "      <td>Q: Does the article explicitly mention the cli...</td>\n",
       "    </tr>\n",
       "    <tr>\n",
       "      <th>1</th>\n",
       "      <td>31264510</td>\n",
       "      <td>Q: Does the article explicitly mention the cli...</td>\n",
       "    </tr>\n",
       "    <tr>\n",
       "      <th>2</th>\n",
       "      <td>25822479</td>\n",
       "      <td>Q: Does the article explicitly mention the cli...</td>\n",
       "    </tr>\n",
       "    <tr>\n",
       "      <th>3</th>\n",
       "      <td>26016467</td>\n",
       "      <td>Q: Does the article explicitly mention the cli...</td>\n",
       "    </tr>\n",
       "    <tr>\n",
       "      <th>4</th>\n",
       "      <td>17628435</td>\n",
       "      <td>Q: Does the article explicitly mention the cli...</td>\n",
       "    </tr>\n",
       "    <tr>\n",
       "      <th>5</th>\n",
       "      <td>27371157</td>\n",
       "      <td>Q: Does the article explicitly mention the cli...</td>\n",
       "    </tr>\n",
       "    <tr>\n",
       "      <th>6</th>\n",
       "      <td>9442338</td>\n",
       "      <td>Q: Does the article explicitly mention the cli...</td>\n",
       "    </tr>\n",
       "    <tr>\n",
       "      <th>7</th>\n",
       "      <td>33691517</td>\n",
       "      <td>Q: Does the article explicitly mention the cli...</td>\n",
       "    </tr>\n",
       "    <tr>\n",
       "      <th>8</th>\n",
       "      <td>8905533</td>\n",
       "      <td>Q: Does the article explicitly mention the cli...</td>\n",
       "    </tr>\n",
       "    <tr>\n",
       "      <th>9</th>\n",
       "      <td>23968123</td>\n",
       "      <td>Q: Does the article explicitly mention the cli...</td>\n",
       "    </tr>\n",
       "  </tbody>\n",
       "</table>\n",
       "</div>"
      ],
      "text/plain": [
       "       PMID                                            Answers\n",
       "0  30738380  Q: Does the article explicitly mention the cli...\n",
       "1  31264510  Q: Does the article explicitly mention the cli...\n",
       "2  25822479  Q: Does the article explicitly mention the cli...\n",
       "3  26016467  Q: Does the article explicitly mention the cli...\n",
       "4  17628435  Q: Does the article explicitly mention the cli...\n",
       "5  27371157  Q: Does the article explicitly mention the cli...\n",
       "6   9442338  Q: Does the article explicitly mention the cli...\n",
       "7  33691517  Q: Does the article explicitly mention the cli...\n",
       "8   8905533  Q: Does the article explicitly mention the cli...\n",
       "9  23968123  Q: Does the article explicitly mention the cli..."
      ]
     },
     "execution_count": 4,
     "metadata": {},
     "output_type": "execute_result"
    }
   ],
   "source": [
    "df\n"
   ]
  },
  {
   "cell_type": "code",
   "execution_count": 18,
   "id": "f6405152",
   "metadata": {},
   "outputs": [
    {
     "name": "stdout",
     "output_type": "stream",
     "text": [
      "[['no', 'unknown\\n', 'yes\\n', 'yes\\n', '227 ', 'no'], ['yes', 'phase 1', 'yes', 'yes', '95', 'no'], ['no\\n\\n', 'unknown\\n\\n', 'yes\\n\\n', 'yes\\n\\n', '100\\n\\n', 'no'], ['no', 'unknown', 'yes', 'yes', '100 ', 'no'], ['no', 'unknown', 'yes', 'yes', '73 ', 'no'], ['yes\\n\\n', 'unknown\\n\\n', 'yes\\n\\n', 'yes\\n\\n', '60\\n\\n', 'no'], ['no', 'unknown', 'yes', 'yes', '9 ', 'no'], ['no', 'unknown', 'yes', 'yes', 'the ', 'no'], ['no', 'unknown', 'yes', 'yes', '66 ', 'no'], ['yes', 'the ', 'yes', 'yes', 'n', 'no']]\n"
     ]
    }
   ],
   "source": [
    "answers = []\n",
    "for index, row in df.iterrows():\n",
    "    curr_answer = str(row['Answers'])\n",
    "    #print(curr_answer)\n",
    "    query = re.findall(\"A:\\s[\\w]*\\s*[\\d]*\", curr_answer)\n",
    "    #print(query)\n",
    "    ans = []\n",
    "    for ele in query:\n",
    "        ele = ele[3:].lower()\n",
    "        ans.append(ele)\n",
    "    answers.append(ans)\n",
    "print(answers)"
   ]
  },
  {
   "cell_type": "raw",
   "id": "e61bff7b",
   "metadata": {},
   "source": []
  },
  {
   "cell_type": "code",
   "execution_count": null,
   "id": "0c8627eb",
   "metadata": {},
   "outputs": [],
   "source": []
  }
 ],
 "metadata": {
  "kernelspec": {
   "display_name": "Python 3 (ipykernel)",
   "language": "python",
   "name": "python3"
  },
  "language_info": {
   "codemirror_mode": {
    "name": "ipython",
    "version": 3
   },
   "file_extension": ".py",
   "mimetype": "text/x-python",
   "name": "python",
   "nbconvert_exporter": "python",
   "pygments_lexer": "ipython3",
   "version": "3.8.15"
  },
  "vscode": {
   "interpreter": {
    "hash": "f7151cf15422f2c7fad381a823e6f65cdaf6610ea4a1832a600edece3dde1db1"
   }
  }
 },
 "nbformat": 4,
 "nbformat_minor": 5
}
